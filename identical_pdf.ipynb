{
  "nbformat": 4,
  "nbformat_minor": 0,
  "metadata": {
    "colab": {
      "provenance": []
    },
    "kernelspec": {
      "name": "python3",
      "display_name": "Python 3"
    },
    "language_info": {
      "name": "python"
    }
  },
  "cells": [
    {
      "cell_type": "code",
      "source": [
        "import hashlib\n",
        "from difflib import SequenceMatcher\n",
        "def hash_file(filename1,filename2):\n",
        "  #use hashlib to store the hash of a file\n",
        "  h1=hashlib.sha1()\n",
        "  h2=hashlib.sha1()\n",
        "  with open(filename1,\"rb\") as file:\n",
        "    # Use file.read() to read the size of file and read the file in small chunks because we cannot read the large files.\n",
        "    chunk=0\n",
        "    while chunk!=b'':\n",
        "      chunk=file.read(1024)\n",
        "      h1.update(chunk)\n",
        "  with open(filename2,\"rb\") as file:\n",
        "    chunk=0\n",
        "    while chunk!=b'':\n",
        "      chunk=file.read(1024)\n",
        "      h2.update(chunk)\n",
        "    return h1.hexdigest(),h2.hexdigest()\n",
        "msg1,msg2=hash_file(\"pd.pdf\",\"pdf.pdf\")\n",
        "if(msg1!=msg2):\n",
        "  print(\"These files are not identical\")\n",
        "else:\n",
        "  print(\"These files are identical\")"
      ],
      "metadata": {
        "colab": {
          "base_uri": "https://localhost:8080/"
        },
        "id": "AKFo0cox5PFP",
        "outputId": "003b675d-83e7-4ad7-9b1f-88ae26f2010d"
      },
      "execution_count": null,
      "outputs": [
        {
          "output_type": "stream",
          "name": "stdout",
          "text": [
            "These files are not identical\n"
          ]
        }
      ]
    }
  ]
}